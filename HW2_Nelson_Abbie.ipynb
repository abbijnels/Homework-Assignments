{
 "cells": [
  {
   "cell_type": "code",
   "execution_count": 1,
   "id": "c5d9432b",
   "metadata": {},
   "outputs": [
    {
     "name": "stdout",
     "output_type": "stream",
     "text": [
      "1\n",
      "2\n",
      "3\n",
      "4\n"
     ]
    }
   ],
   "source": [
    "n = 0\n",
    "while n < 10:\n",
    "    n += 1\n",
    "    if n == 5:\n",
    "        break\n",
    "    print(n)\n",
    "        "
   ]
  },
  {
   "cell_type": "code",
   "execution_count": 2,
   "id": "bafb5653",
   "metadata": {},
   "outputs": [
    {
     "name": "stdout",
     "output_type": "stream",
     "text": [
      "0\n",
      "1\n",
      "2\n",
      "3\n",
      "4\n",
      "5 is not less than 5\n"
     ]
    }
   ],
   "source": [
    "n = 0\n",
    "while n < 5:\n",
    "    print(n)\n",
    "    n += 1\n",
    "print(n, \"is not less than 5\")"
   ]
  },
  {
   "cell_type": "code",
   "execution_count": 20,
   "id": "2f0565fd",
   "metadata": {},
   "outputs": [
    {
     "name": "stdout",
     "output_type": "stream",
     "text": [
      "I like banana\n",
      "I like peach\n",
      "apple is really a fruit?\n"
     ]
    }
   ],
   "source": [
    "fav_fruits = [\"banana\", \"peach\", \"apple\", \"stawberry\"]\n",
    "\n",
    "for fruit in fav_fruits:\n",
    "    if fruit == \"apple\":\n",
    "        break\n",
    "    print(\"I like\", fruit)\n",
    "print(\"apple is really a fruit?\")"
   ]
  },
  {
   "cell_type": "code",
   "execution_count": 17,
   "id": "b59699ad",
   "metadata": {},
   "outputs": [
    {
     "name": "stdout",
     "output_type": "stream",
     "text": [
      "465\n"
     ]
    }
   ],
   "source": [
    "i = 0\n",
    "sum = 0\n",
    "\n",
    "while i < 30:\n",
    "    i = i + 1\n",
    "    sum = i + sum\n",
    "\n",
    "print(sum)"
   ]
  },
  {
   "cell_type": "code",
   "execution_count": 4,
   "id": "9ea3d26d",
   "metadata": {},
   "outputs": [
    {
     "name": "stdout",
     "output_type": "stream",
     "text": [
      "When Sunny let us play\n",
      "When Rainy let us watch TV\n",
      "When Cloudy let us walk\n",
      "{'Sunny': 'play', 'Rainy': 'watch TV', 'Cloudy': 'walk', 'Snowy': 'ski'}\n"
     ]
    }
   ],
   "source": [
    "weather = {\"Sunny\":\"play\", \"Rainy\":\"watch TV\", \"Cloudy\":\"walk\"}\n",
    "\n",
    "for key, value in weather.items():\n",
    "    print(\"When\", key, \"let us\", value)\n",
    "    \n",
    "weather2 = {\"Snowy\":\"ski\"}\n",
    "weather.update(weather2)\n",
    "print(weather)"
   ]
  },
  {
   "cell_type": "code",
   "execution_count": 3,
   "id": "6453eb0c",
   "metadata": {},
   "outputs": [
    {
     "name": "stdout",
     "output_type": "stream",
     "text": [
      "When sunny let us play\n",
      "When rainy let us watch TV\n",
      "When cloudy let us walk\n"
     ]
    }
   ],
   "source": [
    "weather = {\"Sunny\":\"play\", \"Rainy\":\"watch TV\", \"Cloudy\":\"walk\"}\n",
    "\n",
    "for key in weather.keys():\n",
    "    if key == \"Sunny\":\n",
    "        print(\"When sunny let us play\")\n",
    "        continue\n",
    "    if key == \"Rainy\":\n",
    "        print(\"When rainy let us watch TV\")\n",
    "        continue\n",
    "    else:\n",
    "        print(\"When cloudy let us walk\")\n"
   ]
  },
  {
   "cell_type": "code",
   "execution_count": 39,
   "id": "39081421",
   "metadata": {},
   "outputs": [
    {
     "name": "stdout",
     "output_type": "stream",
     "text": [
      "Student's grade is an F\n"
     ]
    }
   ],
   "source": [
    "grade = 55\n",
    "if grade >= 90:\n",
    "    print(\"Student's grade is an A\")\n",
    "elif grade < 90 and grade >= 80:\n",
    "    print(\"Student's grade is an B\")\n",
    "elif grade < 80 and grade >= 70:\n",
    "    print(\"Student's grade is an C\")\n",
    "elif grade < 70 and grade >= 60:\n",
    "    print(\"Student's grade is an D\")\n",
    "else:\n",
    "    print(\"Student's grade is an F\")"
   ]
  }
 ],
 "metadata": {
  "kernelspec": {
   "display_name": "Python 3",
   "language": "python",
   "name": "python3"
  },
  "language_info": {
   "codemirror_mode": {
    "name": "ipython",
    "version": 3
   },
   "file_extension": ".py",
   "mimetype": "text/x-python",
   "name": "python",
   "nbconvert_exporter": "python",
   "pygments_lexer": "ipython3",
   "version": "3.8.8"
  }
 },
 "nbformat": 4,
 "nbformat_minor": 5
}
