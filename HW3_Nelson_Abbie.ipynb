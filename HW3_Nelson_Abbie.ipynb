{
 "cells": [
  {
   "cell_type": "code",
   "execution_count": 7,
   "id": "46f31b30",
   "metadata": {},
   "outputs": [
    {
     "name": "stdout",
     "output_type": "stream",
     "text": [
      "{'Andy': 88, 'Amy': 66, 'James': 90, 'Jules': 55, 'Arthur': 77}\n"
     ]
    }
   ],
   "source": [
    "marks = {'Andy':88, 'Amy':66, 'James':90, 'Jules':55, 'Arthur':77}\n",
    "print(marks)"
   ]
  },
  {
   "cell_type": "code",
   "execution_count": 3,
   "id": "a26f587b",
   "metadata": {},
   "outputs": [
    {
     "name": "stdout",
     "output_type": "stream",
     "text": [
      "Andy 88\n",
      "Amy 66\n",
      "James 90\n",
      "Jules 55\n",
      "Arthur 77\n"
     ]
    }
   ],
   "source": [
    "marks = {'Andy':88, 'Amy':66, 'James':90, 'Jules':55, 'Arthur':77}\n",
    "\n",
    "for key, value in marks.items():\n",
    "    print(key, value)"
   ]
  },
  {
   "cell_type": "code",
   "execution_count": 17,
   "id": "28f611d0",
   "metadata": {},
   "outputs": [
    {
     "name": "stdout",
     "output_type": "stream",
     "text": [
      "75.2\n",
      "90\n",
      "55\n"
     ]
    }
   ],
   "source": [
    "marks = {'Andy':88, 'Amy':66, 'James':90, 'Jules':55, 'Arthur':77}\n",
    "\n",
    "import math\n",
    "just_values = marks.values()\n",
    "\n",
    "mean_value = (sum(just_values)/len(just_values))\n",
    "print(mean_value)\n",
    "max_value = max(just_values)\n",
    "print(max_value)\n",
    "min_value = min(just_values)\n",
    "print(min_value)"
   ]
  },
  {
   "cell_type": "code",
   "execution_count": 5,
   "id": "5429969d",
   "metadata": {},
   "outputs": [
    {
     "name": "stdout",
     "output_type": "stream",
     "text": [
      "Andy\n",
      "Amy\n"
     ]
    }
   ],
   "source": [
    "marks = {'Andy':88, 'Amy':66, 'James':90, 'Jules':55, 'Arthur':77}\n",
    "\n",
    "for name in marks.keys():\n",
    "    if 'J' in name:\n",
    "        break\n",
    "    else:\n",
    "        print(name)"
   ]
  },
  {
   "cell_type": "code",
   "execution_count": 6,
   "id": "aced02e8",
   "metadata": {},
   "outputs": [
    {
     "name": "stdout",
     "output_type": "stream",
     "text": [
      "Andy\n",
      "Amy\n",
      "Arthur\n"
     ]
    }
   ],
   "source": [
    "marks = {'Andy':88, 'Amy':66, 'James':90, 'Jules':55, 'Arthur':77}\n",
    "\n",
    "for name in marks.keys():\n",
    "    if 'J' in name:\n",
    "        continue\n",
    "    else:\n",
    "        print(name)"
   ]
  },
  {
   "cell_type": "code",
   "execution_count": 33,
   "id": "9d039160",
   "metadata": {},
   "outputs": [
    {
     "name": "stdout",
     "output_type": "stream",
     "text": [
      "66\n"
     ]
    }
   ],
   "source": [
    "def function(input):\n",
    "    marks = {'Andy':88, 'Amy':66, 'James':90, 'Jules':55, 'Arthur':77}    \n",
    "    for student in marks:\n",
    "        if student == input:\n",
    "            print(marks[student])\n",
    "            break\n",
    "    else:\n",
    "        print(\"Cannot find this student's name\")\n",
    "   \n",
    "    \n",
    "     \n",
    "function('Amy')"
   ]
  },
  {
   "cell_type": "code",
   "execution_count": 37,
   "id": "fdafc02e",
   "metadata": {},
   "outputs": [
    {
     "name": "stdout",
     "output_type": "stream",
     "text": [
      "0 1\n",
      "1 1\n",
      "2 4\n",
      "3 27\n",
      "4 256\n",
      "5 3125\n",
      "6 46656\n",
      "7 823543\n",
      "greater than 8\n"
     ]
    }
   ],
   "source": [
    "def less_than(num):\n",
    "    n = 0\n",
    "    while n < num:\n",
    "        print(n, n**n)\n",
    "        n += 1\n",
    "    else:\n",
    "        print(\"greater than\", num)\n",
    "\n",
    "\n",
    "less_than(8)"
   ]
  },
  {
   "cell_type": "code",
   "execution_count": 40,
   "id": "f5fb34eb",
   "metadata": {},
   "outputs": [
    {
     "name": "stdout",
     "output_type": "stream",
     "text": [
      "36\n"
     ]
    }
   ],
   "source": [
    "def question_seven(num):\n",
    "    n = 1\n",
    "    sum = 0\n",
    "    while n <= num:\n",
    "        sum += n\n",
    "        n += 1\n",
    "    else:\n",
    "        print(sum)\n",
    "\n",
    "\n",
    "\n",
    "question_seven(8)"
   ]
  },
  {
   "cell_type": "code",
   "execution_count": 42,
   "id": "841eec28",
   "metadata": {},
   "outputs": [
    {
     "name": "stdout",
     "output_type": "stream",
     "text": [
      "1\n",
      "3\n",
      "6\n",
      "10\n",
      "15\n",
      "21\n",
      "28\n",
      "36\n"
     ]
    }
   ],
   "source": [
    "def question_nine(num):\n",
    "    n = 1\n",
    "    sum = 0\n",
    "    for x in range(num):\n",
    "        sum += n\n",
    "        n += 1\n",
    "        print(sum)\n",
    "    \n",
    "question_nine(8)"
   ]
  },
  {
   "cell_type": "code",
   "execution_count": 14,
   "id": "4454b382",
   "metadata": {},
   "outputs": [
    {
     "data": {
      "text/plain": [
       "3"
      ]
     },
     "execution_count": 14,
     "metadata": {},
     "output_type": "execute_result"
    }
   ],
   "source": [
    "def minimal(v1,v2,v3,v4):\n",
    "    min_value = v1\n",
    "    if v2 < v1:\n",
    "        min_value = v2\n",
    "    if v3 < min_value:\n",
    "        min_value = v3\n",
    "    if v4 < min_value:\n",
    "        min_value = v4\n",
    "    return min_value\n",
    "    \n",
    "    \n",
    "minimal(62,3,15,8)"
   ]
  },
  {
   "cell_type": "code",
   "execution_count": null,
   "id": "31075202",
   "metadata": {},
   "outputs": [],
   "source": []
  }
 ],
 "metadata": {
  "kernelspec": {
   "display_name": "Python 3",
   "language": "python",
   "name": "python3"
  },
  "language_info": {
   "codemirror_mode": {
    "name": "ipython",
    "version": 3
   },
   "file_extension": ".py",
   "mimetype": "text/x-python",
   "name": "python",
   "nbconvert_exporter": "python",
   "pygments_lexer": "ipython3",
   "version": "3.8.8"
  }
 },
 "nbformat": 4,
 "nbformat_minor": 5
}
