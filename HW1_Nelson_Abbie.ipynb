{
 "cells": [
  {
   "cell_type": "code",
   "execution_count": 1,
   "id": "0160b65f",
   "metadata": {},
   "outputs": [
    {
     "name": "stdout",
     "output_type": "stream",
     "text": [
      "['pink', 'orange', 'green', 'light blue']\n"
     ]
    }
   ],
   "source": [
    "colors = [\"pink\", \"orange\", \"green\", \"light blue\"]\n",
    "print(colors)"
   ]
  },
  {
   "cell_type": "code",
   "execution_count": 2,
   "id": "6eb444e7",
   "metadata": {},
   "outputs": [
    {
     "name": "stdout",
     "output_type": "stream",
     "text": [
      "[30, 33, 36, 39, 42, 45, 48, 51, 54, 57, 60]\n",
      "(30, 33, 36, 39, 42, 45, 48, 51, 54, 57, 60)\n"
     ]
    }
   ],
   "source": [
    "numbers = list(range(30, 63, 3))\n",
    "print(numbers)\n",
    "numbers2 = tuple(numbers)\n",
    "print(numbers2)"
   ]
  },
  {
   "cell_type": "code",
   "execution_count": 3,
   "id": "fc66e761",
   "metadata": {},
   "outputs": [
    {
     "name": "stdout",
     "output_type": "stream",
     "text": [
      "[0, 1, 2, 3, 4, 5]\n",
      "[0, 1, 2.0, 3, 4, 5]\n",
      "6\n",
      "5\n",
      "0\n"
     ]
    }
   ],
   "source": [
    "empty_list = []\n",
    "empty_list.append(0)\n",
    "empty_list.append(1)\n",
    "empty_list.append(2)\n",
    "empty_list.append(3)\n",
    "empty_list.append(4)\n",
    "empty_list.append(5)\n",
    "print(empty_list)\n",
    "empty_list.remove(2)\n",
    "empty_list.insert(2, 2.0)\n",
    "print(empty_list)\n",
    "print(len(empty_list))\n",
    "print(max(empty_list))\n",
    "print(min(empty_list))"
   ]
  },
  {
   "cell_type": "code",
   "execution_count": 5,
   "id": "d65a3f65",
   "metadata": {},
   "outputs": [
    {
     "name": "stdout",
     "output_type": "stream",
     "text": [
      "[1, 2, 3, 4, 5, 6, 7, 8, 9, 10]\n",
      "55\n"
     ]
    }
   ],
   "source": [
    "sumlist = list(range(1, 11))\n",
    "print(sumlist)\n",
    "total = sumlist[0] + sumlist[1] + sumlist[2] + sumlist[3] + sumlist[4] + sumlist[5] + sumlist[6] + sumlist[7] + sumlist[8] + sumlist[9]\n",
    "print(total)"
   ]
  },
  {
   "cell_type": "code",
   "execution_count": null,
   "id": "52757d3d",
   "metadata": {},
   "outputs": [],
   "source": []
  }
 ],
 "metadata": {
  "kernelspec": {
   "display_name": "Python 3",
   "language": "python",
   "name": "python3"
  },
  "language_info": {
   "codemirror_mode": {
    "name": "ipython",
    "version": 3
   },
   "file_extension": ".py",
   "mimetype": "text/x-python",
   "name": "python",
   "nbconvert_exporter": "python",
   "pygments_lexer": "ipython3",
   "version": "3.8.8"
  }
 },
 "nbformat": 4,
 "nbformat_minor": 5
}
